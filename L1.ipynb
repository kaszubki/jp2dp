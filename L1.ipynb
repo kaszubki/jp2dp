{
 "cells": [
  {
   "cell_type": "markdown",
   "metadata": {},
   "source": [
    "EX. 1"
   ]
  },
  {
   "cell_type": "code",
   "execution_count": 5,
   "metadata": {
    "collapsed": false
   },
   "outputs": [
    {
     "name": "stdout",
     "output_type": "stream",
     "text": [
      "Hello World\n"
     ]
    }
   ],
   "source": [
    "print \"Hello World\""
   ]
  },
  {
   "cell_type": "code",
   "execution_count": 6,
   "metadata": {
    "collapsed": false
   },
   "outputs": [
    {
     "data": {
      "text/plain": [
       "46"
      ]
     },
     "execution_count": 6,
     "metadata": {},
     "output_type": "execute_result"
    }
   ],
   "source": [
    "6 + 4 * 10"
   ]
  },
  {
   "cell_type": "code",
   "execution_count": 7,
   "metadata": {
    "collapsed": false
   },
   "outputs": [
    {
     "data": {
      "text/plain": [
       "100"
      ]
     },
     "execution_count": 7,
     "metadata": {},
     "output_type": "execute_result"
    }
   ],
   "source": [
    "(6 + 4) * 10"
   ]
  },
  {
   "cell_type": "code",
   "execution_count": null,
   "metadata": {
    "collapsed": true
   },
   "outputs": [],
   "source": [
    "### "
   ]
  },
  {
   "cell_type": "code",
   "execution_count": 8,
   "metadata": {
    "collapsed": false
   },
   "outputs": [
    {
     "data": {
      "text/plain": [
       "6436343.0"
      ]
     },
     "execution_count": 8,
     "metadata": {},
     "output_type": "execute_result"
    }
   ],
   "source": [
    "23.0**5"
   ]
  },
  {
   "cell_type": "code",
   "execution_count": 12,
   "metadata": {
    "collapsed": false
   },
   "outputs": [
    {
     "name": "stdout",
     "output_type": "stream",
     "text": [
      "3.40587876541\n"
     ]
    }
   ],
   "source": [
    "import math\n",
    "coefs = [24, 68, -510]\n",
    "proot = (-coefs[1] + math.sqrt(coefs[1]**2 - 4 * coefs[0] * coefs[2])) / (2 * coefs[0])\n",
    "print proot"
   ]
  },
  {
   "cell_type": "markdown",
   "metadata": {},
   "source": [
    "EX. 2, 3"
   ]
  },
  {
   "cell_type": "code",
   "execution_count": 33,
   "metadata": {
    "collapsed": false
   },
   "outputs": [],
   "source": [
    "s = \" | | ----- | | ----- | | \""
   ]
  },
  {
   "cell_type": "code",
   "execution_count": 30,
   "metadata": {
    "collapsed": false
   },
   "outputs": [
    {
     "name": "stdout",
     "output_type": "stream",
     "text": [
      " | | \n",
      "-----\n",
      " | | \n",
      "-----\n",
      " | | \n",
      "\n"
     ]
    }
   ],
   "source": [
    "def print_ttt(s):\n",
    "    res = \"\"\n",
    "    for i in xrange(0, len(s), 5):\n",
    "        res = res + s[i:i+5] + \"\\n\"\n",
    "    print res\n",
    "print_ttt(\" | | ----- | | ----- | | \")"
   ]
  },
  {
   "cell_type": "code",
   "execution_count": 31,
   "metadata": {
    "collapsed": false
   },
   "outputs": [
    {
     "name": "stdout",
     "output_type": "stream",
     "text": [
      "X| | \n",
      "-----\n",
      " |X|X\n",
      "-----\n",
      " |X| \n",
      "\n"
     ]
    }
   ],
   "source": [
    "cells_with_exes = [(0,0), (1, 1), (1, 2), (2, 1)]\n",
    "ns = \" | | ----- | | ----- | | \"\n",
    "for x,y in cells_with_exes:\n",
    "    a = 5 * (2 * x) + (2 * y)\n",
    "    ns = ns[:a] + \"X\" + ns[a+1:]\n",
    "\n",
    "print_ttt(ns)"
   ]
  },
  {
   "cell_type": "markdown",
   "metadata": {},
   "source": [
    "EX. 4"
   ]
  },
  {
   "cell_type": "code",
   "execution_count": 1,
   "metadata": {
    "collapsed": false
   },
   "outputs": [
    {
     "name": "stdout",
     "output_type": "stream",
     "text": [
      "True\n",
      "True\n",
      "True\n"
     ]
    }
   ],
   "source": [
    "def how_many_digits(n):\n",
    "    \"\"\" Get number of digits in n \"\"\"\n",
    "    if n==0:\n",
    "        return 1\n",
    "    digits = 0\n",
    "    while n > 0:\n",
    "        n /= 10\n",
    "        digits += 1\n",
    "    return digits\n",
    "\n",
    "print how_many_digits(0) == 1\n",
    "print how_many_digits(10) == 2\n",
    "print how_many_digits(1234567890) == 10"
   ]
  },
  {
   "cell_type": "code",
   "execution_count": 3,
   "metadata": {
    "collapsed": false
   },
   "outputs": [
    {
     "name": "stdout",
     "output_type": "stream",
     "text": [
      "True\n",
      "True\n"
     ]
    }
   ],
   "source": [
    "def sum_of_cubes(n): \n",
    "    \"\"\" Returns sum of cubes from 1 to n \"\"\"\n",
    "    i = 0\n",
    "    result = 0\n",
    "    for i in range(1, n+1):\n",
    "        result += i**3\n",
    "    return result\n",
    "\n",
    "print sum_of_cubes(1) == 1\n",
    "print sum_of_cubes(3) == 36"
   ]
  }
 ],
 "metadata": {
  "kernelspec": {
   "display_name": "Python 2",
   "language": "python",
   "name": "python2"
  },
  "language_info": {
   "codemirror_mode": {
    "name": "ipython",
    "version": 2
   },
   "file_extension": ".py",
   "mimetype": "text/x-python",
   "name": "python",
   "nbconvert_exporter": "python",
   "pygments_lexer": "ipython2",
   "version": "2.7.6"
  }
 },
 "nbformat": 4,
 "nbformat_minor": 0
}
