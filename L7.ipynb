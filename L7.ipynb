{
 "cells": [
  {
   "cell_type": "code",
   "execution_count": 97,
   "metadata": {
    "collapsed": true
   },
   "outputs": [],
   "source": [
    "import re\n",
    "from collections import Counter\n",
    "import itertools\n",
    "import numpy as np\n",
    "import matplotlib.pyplot as plt\n",
    "%matplotlib inline"
   ]
  },
  {
   "cell_type": "code",
   "execution_count": 98,
   "metadata": {
    "collapsed": false
   },
   "outputs": [
    {
     "name": "stdout",
     "output_type": "stream",
     "text": [
      "129967\n"
     ]
    }
   ],
   "source": [
    "list_of_words = []\n",
    "\n",
    "with open(\"big.txt\", 'r') as f:\n",
    "    s = str(f.read())\n",
    "    #print s[15000:25000]\n",
    "    #print \"____________________________________________________________________\"\n",
    "    s = re.sub(r'[^\\w\\s]','',s)\n",
    "    #print s[15000:25000]\n",
    "    s = re.sub(r'[0-9_]','',s)\n",
    "    s = re.sub('[\\n\\t]', ' ', s)\n",
    "    s = re.sub(' +', ' ', s)\n",
    "    s = s.lower()\n",
    "    list_of_words = s.split(' ')\n",
    "\n",
    "print len(list_of_words)\n",
    "\n",
    "#tutaj jakoś inaczej mi te słowa wychodzą, próbowałem zmieniać, ale tylko się oddalałem od 131810"
   ]
  },
  {
   "cell_type": "code",
   "execution_count": 99,
   "metadata": {
    "collapsed": false
   },
   "outputs": [
    {
     "data": {
      "text/plain": [
       "<function matplotlib.pyplot.show>"
      ]
     },
     "execution_count": 99,
     "metadata": {},
     "output_type": "execute_result"
    },
    {
     "data": {
      "image/png": "[encoded data removed]",
      "text/plain": [
       "<matplotlib.figure.Figure at 0x7f0ec9d68350>"
      ]
     },
     "metadata": {},
     "output_type": "display_data"
    }
   ],
   "source": [
    "COUNTS = Counter(list_of_words)\n",
    "#print COUNTS\n",
    "\n",
    "x = range(len(COUNTS))\n",
    "y = [np.log(v) for v in sorted(COUNTS.values())[::-1]]\n",
    "plt.plot(x, y)\n",
    "plt.show"
   ]
  },
  {
   "cell_type": "code",
   "execution_count": 100,
   "metadata": {
    "collapsed": true
   },
   "outputs": [],
   "source": [
    "def edits0(s):\n",
    "    return {s}"
   ]
  },
  {
   "cell_type": "code",
   "execution_count": 101,
   "metadata": {
    "collapsed": false
   },
   "outputs": [
    {
     "name": "stdout",
     "output_type": "stream",
     "text": [
      "set(['ss'])\n"
     ]
    }
   ],
   "source": [
    "print edits0(\"ss\")\n",
    "assert edits0('cat') == {'cat'}"
   ]
  },
  {
   "cell_type": "code",
   "execution_count": 102,
   "metadata": {
    "collapsed": true
   },
   "outputs": [],
   "source": [
    "def edits1(s):\n",
    "    res = set()\n",
    "    for l, c in itertools.product(xrange(len(s) + 1), xrange(ord('a'), ord('z') + 1)):\n",
    "        if l != len(s): res.add(s[:l] + chr(c) + s[l + 1:]);\n",
    "        if l != 0 and l != len(s): res.add(s[:(l-1)] + s[l] + s[l-1] + s[l+1:]);\n",
    "        for x in zip([1, 0], [\"\", chr(c)]): res.add(s[:l] + x[1] + s[(x[0] + l):])\n",
    "    return res"
   ]
  },
  {
   "cell_type": "code",
   "execution_count": 103,
   "metadata": {
    "collapsed": false
   },
   "outputs": [],
   "source": [
    "ed1_Cat = set(['caqt', 'ucat', 'cdt', 'ctat', 'ciat', 'vcat', 'cvat', 'ycat', 'caht', 'cut', 'jat', \n",
    "               'caty', 'clt', 'hat', 'cyat', 'capt', 'icat', 'zcat', 'fat', 'dat', 'cet', \n",
    "               'caot', 'catz', 'hcat', 'bat', 'crt', 'cayt', 'cakt', 'clat', 'cmt', 'cvt', \n",
    "               'ceat', 'cwat', 'cjat', 'cnat', 'acat', 'cft', 'cabt', 'cnt', 'cajt', 'aat', \n",
    "               'cwt', 'cast', 'czat', 'csat', 'cqat', 'cit', 'cart', 'jcat', 'cfat', 'cazt', \n",
    "               'pcat', 'catd', 'caat', 'cgt', 'ctt', 'cati', 'cait', 'cot', 'cawt', 'xcat', \n",
    "               'cta', 'act', 'ncat', 'cxt', 'ckat', 'calt', 'ca', 'dcat', 'cadt', 'zat', \n",
    "               'cato', 'ct', 'crat', 'cata', 'catb', 'catc', 'tcat', 'cate', 'catf', 'catg', \n",
    "               'cath', 'yat', 'catj', 'catk', 'xat', 'catm', 'catn', 'catl', 'catp', 'ocat', \n",
    "               'catr', 'cats', 'cht', 'catu', 'catv', 'catw', 'catx', 'iat', 'bcat', 'wat', \n",
    "               'catq', 'vat', 'cqt', 'cact', 'cyt', 'rcat', 'gat', 'cant', 'cgat', 'mcat', \n",
    "               'eat', 'kcat', 'caz', 'cay', 'cax', 'cas', 'car', 'caq', 'cap', 'caw', 'cav', \n",
    "               'cau', 'cat', 'cak', 'caj', 'cai', 'cah', 'cao', 'can', 'cam', 'cal', 'cac', \n",
    "               'cab', 'caa', 'cag', 'caf', 'cae', 'cad', 'tat', 'chat', 'fcat', 'caft', 'lcat', \n",
    "               'uat', 'czt', 'rat', 'at', 'cbt', 'catt', 'scat', 'sat', 'qat', 'qcat', 'pat', \n",
    "               'wcat', 'cuat', 'oat', 'nat', 'cst', 'cavt', 'cjt', 'mat', 'cxat', 'caet', 'cmat', \n",
    "               'ccat', 'cagt', 'cpat', 'kat', 'lat', 'gcat', 'caxt', 'cdat', 'coat', 'cct', 'camt', \n",
    "               'ckt', 'caut', 'cpt', 'cbat', 'ecat']) \n",
    "\n",
    "assert edits1('cat') == ed1_Cat"
   ]
  },
  {
   "cell_type": "code",
   "execution_count": 104,
   "metadata": {
    "collapsed": true
   },
   "outputs": [],
   "source": [
    "def edits2(word):\n",
    "    \"Return all strings that are two edits away from this word.\"\n",
    "    return {e2 for e1 in edits1(word) for e2 in edits1(e1)}"
   ]
  },
  {
   "cell_type": "code",
   "execution_count": 105,
   "metadata": {
    "collapsed": true
   },
   "outputs": [],
   "source": [
    "def candidates(s):\n",
    "    if COUNTS[s] > 0:\n",
    "        return edits0(s)\n",
    "    l = [x for x in edits1(s) if COUNTS[x] > 0]\n",
    "    if l == []:\n",
    "        l = [x for x in edits2(s) if COUNTS[x] > 0]\n",
    "    if(l == []):\n",
    "        return edits0(s)\n",
    "    return set(l)"
   ]
  },
  {
   "cell_type": "code",
   "execution_count": 110,
   "metadata": {
    "collapsed": false
   },
   "outputs": [
    {
     "data": {
      "text/plain": [
       "{'cuba',\n",
       " 'cup',\n",
       " 'pa',\n",
       " 'pipe',\n",
       " 'pips',\n",
       " 'plea',\n",
       " 'pp',\n",
       " 'pull',\n",
       " 'pulp',\n",
       " 'puny',\n",
       " 'pupil',\n",
       " 'pure',\n",
       " 'push',\n",
       " 'put',\n",
       " 'up',\n",
       " 'usa'}"
      ]
     },
     "execution_count": 110,
     "metadata": {},
     "output_type": "execute_result"
    }
   ],
   "source": [
    "candidates(\"pupa\")"
   ]
  },
  {
   "cell_type": "code",
   "execution_count": 107,
   "metadata": {
    "collapsed": true
   },
   "outputs": [],
   "source": [
    "def correct(s):\n",
    "    cs = candidates(s)\n",
    "    ile = max(COUNTS[a] for a in cs)\n",
    "    for c in cs:\n",
    "        if COUNTS[c] == ile:\n",
    "            return c"
   ]
  },
  {
   "cell_type": "code",
   "execution_count": 108,
   "metadata": {
    "collapsed": true
   },
   "outputs": [],
   "source": [
    "assert correct('economtric') == 'economic'\n",
    "assert correct('zcat') == 'cat'\n",
    "assert correct('cmoing') == 'coming'\n",
    "assert correct(\"thay\") == \"that\", \"That is more probable than they\""
   ]
  },
  {
   "cell_type": "code",
   "execution_count": 109,
   "metadata": {
    "collapsed": false
   },
   "outputs": [],
   "source": [
    "def correct_text(text):\n",
    "    \"Correct all the words within a text, returning the corrected text.\"\n",
    "    return re.sub('[a-zA-Z]+', correct_match, text)\n",
    "\n",
    "def correct_match(match):\n",
    "    \"Spell-correct word in match, and preserve proper upper/lower/title case.\"\n",
    "    word = match.group()\n",
    "    return case_of(word)(correct(word.lower()))\n",
    "\n",
    "def case_of(text):\n",
    "    \"Return the case-function appropriate for text: upper, lower, title, or just str.\"\n",
    "    return (str.upper if text.isupper() else\n",
    "            str.lower if text.islower() else\n",
    "            str.title if text.istitle() else\n",
    "            str)\n",
    "\n",
    "assert correct_text('Speling Errurs IN somethink. Whutever; unusuel misteakes?') == 'Seeing Errors IN something. Whatever; unusual mistaken?'"
   ]
  },
  {
   "cell_type": "code",
   "execution_count": null,
   "metadata": {
    "collapsed": true
   },
   "outputs": [],
   "source": []
  }
 ],
 "metadata": {
  "kernelspec": {
   "display_name": "Python 2",
   "language": "python",
   "name": "python2"
  },
  "language_info": {
   "codemirror_mode": {
    "name": "ipython",
    "version": 2
   },
   "file_extension": ".py",
   "mimetype": "text/x-python",
   "name": "python",
   "nbconvert_exporter": "python",
   "pygments_lexer": "ipython2",
   "version": "2.7.6"
  }
 },
 "nbformat": 4,
 "nbformat_minor": 0
}
