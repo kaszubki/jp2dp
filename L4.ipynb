{
 "cells": [
  {
   "cell_type": "code",
   "execution_count": 1,
   "metadata": {
    "collapsed": false
   },
   "outputs": [
    {
     "data": {
      "text/plain": [
       "[('John', [('berries', 1), ('orange', 10)]),\n",
       " ('Merry', [('apple', 5), ('orange', 3)]),\n",
       " ('Tom', [('peaches', 2)])]"
      ]
     },
     "execution_count": 1,
     "metadata": {},
     "output_type": "execute_result"
    }
   ],
   "source": [
    "## Consider database of fruits\n",
    "\n",
    "fruits = {\n",
    "    'Merry': [\n",
    "        ('apple', 5),\n",
    "        ('orange', 3),\n",
    "    ],\n",
    "    'John': [\n",
    "        ('berries', 1),\n",
    "        ('orange', 10),\n",
    "    ],\n",
    "    'Tom' : [\n",
    "        ('peaches', 2),\n",
    "    ],\n",
    "}\n",
    "fruits.items()"
   ]
  },
  {
   "cell_type": "code",
   "execution_count": null,
   "metadata": {
    "collapsed": true
   },
   "outputs": [],
   "source": [
    "filter(fruits, lambda: (key in))"
   ]
  }
 ],
 "metadata": {
  "kernelspec": {
   "display_name": "Python 2",
   "language": "python",
   "name": "python2"
  },
  "language_info": {
   "codemirror_mode": {
    "name": "ipython",
    "version": 2
   },
   "file_extension": ".py",
   "mimetype": "text/x-python",
   "name": "python",
   "nbconvert_exporter": "python",
   "pygments_lexer": "ipython2",
   "version": "2.7.6"
  }
 },
 "nbformat": 4,
 "nbformat_minor": 0
}
