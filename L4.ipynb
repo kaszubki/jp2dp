{
 "cells": [
  {
   "cell_type": "code",
   "execution_count": 162,
   "metadata": {
    "collapsed": true
   },
   "outputs": [],
   "source": [
    "import matplotlib.pyplot as plt\n",
    "import numpy as np\n",
    "from collections import Counter\n",
    "import re\n",
    "import itertools\n",
    "%matplotlib inline\n",
    "import random"
   ]
  },
  {
   "cell_type": "code",
   "execution_count": 3,
   "metadata": {
    "collapsed": false
   },
   "outputs": [
    {
     "name": "stdout",
     "output_type": "stream",
     "text": [
      "[('John', [('berries', 1), ('orange', 10)]), ('Merry', [('apple', 5), ('orange', 3)]), ('Tom', [('peaches', 2)])]\n",
      "{'John': [('berries', 1), ('orange', 10)], 'Merry': [('apple', 5), ('orange', 3)], 'Tom': [('peaches', 2)]}\n"
     ]
    }
   ],
   "source": [
    "## Consider database of fruits\n",
    "\n",
    "fruits = {\n",
    "    'Merry': [\n",
    "        ('apple', 5),\n",
    "        ('orange', 3),\n",
    "    ],\n",
    "    'John': [\n",
    "        ('berries', 1),\n",
    "        ('orange', 10),\n",
    "    ],\n",
    "    'Tom' : [\n",
    "        ('peaches', 2),\n",
    "    ],\n",
    "}\n",
    "print fruits.items()\n",
    "print fruits"
   ]
  },
  {
   "cell_type": "markdown",
   "metadata": {},
   "source": [
    "EX. 1"
   ]
  },
  {
   "cell_type": "code",
   "execution_count": 15,
   "metadata": {
    "collapsed": false
   },
   "outputs": [
    {
     "data": {
      "text/plain": [
       "[('Merry', [('apple', 5), ('orange', 3)]), ('Tom', [('peaches', 2)])]"
      ]
     },
     "execution_count": 15,
     "metadata": {},
     "output_type": "execute_result"
    }
   ],
   "source": [
    "list(filter(lambda x : (x[0] in [\"Merry\", \"Tom\"]), fruits.items()))"
   ]
  },
  {
   "cell_type": "markdown",
   "metadata": {},
   "source": [
    "EX. 2"
   ]
  },
  {
   "cell_type": "code",
   "execution_count": 114,
   "metadata": {
    "collapsed": false
   },
   "outputs": [],
   "source": [
    "with open(\"radishsurvey.txt\") as f:\n",
    "    ll = f.readlines()\n",
    "ll = list(map(lambda x : x.split(\" - \"), ll))"
   ]
  },
  {
   "cell_type": "code",
   "execution_count": 116,
   "metadata": {
    "collapsed": false
   },
   "outputs": [
    {
     "name": "stdout",
     "output_type": "stream",
     "text": [
      "('champion', 76) ('red king', 56)\n"
     ]
    },
    {
     "data": {
      "image/png": "[encoded data removed]",
      "text/plain": [
       "<matplotlib.figure.Figure at 0x7fa6152f74d0>"
      ]
     },
     "metadata": {},
     "output_type": "display_data"
    }
   ],
   "source": [
    "varieties = map(lambda x : x[1], ll)\n",
    "varieties = map(lambda x : re.sub(' +',' ',x), varieties)\n",
    "varieties = map(lambda x : re.sub('^ ','',x), varieties)\n",
    "varieties = map(lambda x : re.sub(' *\\n','',x), varieties)\n",
    "varieties = map(lambda x : x.lower(), varieties)\n",
    "\n",
    "c = Counter(varieties).items()\n",
    "winner = max(c, key=lambda x : x[1])\n",
    "loser = min(c, key=lambda x : x[1])\n",
    "\n",
    "print winner, loser\n",
    "\n",
    "fig, ax = plt.subplots()\n",
    "ax.bar(np.arange(0, len(c), 1), map(lambda x : x[1], c), align=\"center\")\n",
    "ax.set_xlim((-1, len(c)))\n",
    "ax.xaxis.set_ticks(np.arange(0, len(c), 1))\n",
    "ax.xaxis.set_ticklabels(list(map(lambda x : x[0], c)), rotation=\"vertical\")\n",
    "ax.xaxis.set_label_text(\"wykres popularnosci jablek\")\n",
    "\n",
    "plt.show()"
   ]
  },
  {
   "cell_type": "code",
   "execution_count": 117,
   "metadata": {
    "collapsed": false
   },
   "outputs": [
    {
     "name": "stdout",
     "output_type": "stream",
     "text": [
      "True\n"
     ]
    }
   ],
   "source": [
    "#czy ktos glosowal 2 razy\n",
    "names = sorted(map(lambda x : x[0], ll))\n",
    "the_same = map((lambda x : (x[0] == x[1])), zip(names[:-1], names[1:]))\n",
    "the_same = reduce(lambda x, y : (x or y), the_same)\n",
    "print the_same"
   ]
  },
  {
   "cell_type": "markdown",
   "metadata": {},
   "source": [
    "EX. 3"
   ]
  },
  {
   "cell_type": "code",
   "execution_count": 232,
   "metadata": {
    "collapsed": false
   },
   "outputs": [],
   "source": [
    "class Board(object):\n",
    "    def __init__(self, side=3, first_player='X'):\n",
    "        self.board = np.zeros((side, side))\n",
    "        self.side = side\n",
    "        self.act_player = 1\n",
    "        self.free = set()\n",
    "        \n",
    "        if first_player == 'O':\n",
    "            self.act_player = -1\n",
    "        \n",
    "        winning_lines = []\n",
    "        diag1 = []\n",
    "        diag2 = []\n",
    "        for i in xrange(self.side):\n",
    "            diag1.append((i, i))\n",
    "            diag2.append((i, self.side - i - 1))\n",
    "        \n",
    "        winning_lines.append(diag1)\n",
    "        winning_lines.append(diag2)\n",
    "        for i in xrange(self.side):\n",
    "            col = []\n",
    "            for j in xrange(self.side):\n",
    "                col.append((i, j))\n",
    "            row = []\n",
    "            for j in xrange(self.side):\n",
    "                row.append((j, i))\n",
    "            winning_lines.append(col)\n",
    "            winning_lines.append(row)\n",
    "            \n",
    "        for i, j in itertools.product(range(side), range(side)):\n",
    "            self.free.add((i, j))\n",
    "        \n",
    "        self.wl = winning_lines\n",
    "        \n",
    "    def play_at(self, x, y):\n",
    "        if (x, y) not in self.free:\n",
    "            raise Exception(\"pole jest zajete\")\n",
    "        self.free.remove((x, y))\n",
    "        self.board[x, y] = self.act_player\n",
    "        self.act_player = -self.act_player\n",
    "        return self\n",
    "        \n",
    "    def score(self):\n",
    "        for w in self.wl:\n",
    "            s = sum(self.board[x[0],x[1]] for x in w)\n",
    "            if s == self.side:\n",
    "                return 1\n",
    "            if s + self.side == 0:\n",
    "                return -1\n",
    "        return 0\n",
    "    \n",
    "    def play_random_once(self):\n",
    "        if len(self.free) == 0:\n",
    "            return False\n",
    "        if self.score() != 0:\n",
    "            return False\n",
    "        x, y = random.sample(self.free, 1)[0]\n",
    "        self.free.remove((x, y))\n",
    "        self.board[x, y] = self.act_player\n",
    "        self.act_player = -self.act_player\n",
    "        return True\n",
    "        \n",
    "    def playout_random(self):\n",
    "        x = True\n",
    "        while x is True:\n",
    "            x = self.play_random_once()\n",
    "        return self"
   ]
  },
  {
   "cell_type": "code",
   "execution_count": 250,
   "metadata": {
    "collapsed": false
   },
   "outputs": [
    {
     "name": "stdout",
     "output_type": "stream",
     "text": [
      "Winning probability of O is 0.31\n"
     ]
    }
   ],
   "source": [
    "# This code should work\n",
    "board = Board(3, 'X')\n",
    "board_2 = board.play_at(0, 0)\n",
    "\n",
    "results = []\n",
    "for _ in range(100): # _ is just a dummy variable\n",
    "    board = Board(3, 'X')\n",
    "    results.append(board.playout_random().score() == -1) # has \"O\" won?\n",
    "\n",
    "prob_winning = sum(results)/float(len(results))\n",
    "    \n",
    "print \"Winning probability of O is {}\".format(prob_winning)"
   ]
  },
  {
   "cell_type": "markdown",
   "metadata": {},
   "source": [
    "EX. 4"
   ]
  },
  {
   "cell_type": "markdown",
   "metadata": {},
   "source": [
    "Calculate how many apples has Merry and John using chain of:\n",
    "\n",
    "filter: dict -> list of tuples ('name', list of tuples)\n",
    "\n",
    "map: list of tuples ('name', list of tuples) -> list of list of tuples\n",
    "\n",
    "chain: list of list of tuples -> list of tuples\n",
    "\n",
    "map: list of tuples -> list of numbers\n",
    "\n",
    "reduce: list of numbers -> single number"
   ]
  },
  {
   "cell_type": "code",
   "execution_count": 158,
   "metadata": {
    "collapsed": false
   },
   "outputs": [
    {
     "name": "stdout",
     "output_type": "stream",
     "text": [
      "[('John', [('berries', 1), ('orange', 10)]), ('Merry', [('apple', 5), ('orange', 3)])]\n",
      "[[('berries', 1), ('orange', 10)], [('apple', 5), ('orange', 3)]]\n",
      "[('berries', 1), ('orange', 10), ('apple', 5), ('orange', 3)]\n",
      "[0, 0, 5, 0]\n",
      "5\n"
     ]
    }
   ],
   "source": [
    "f1 = filter(lambda x : (x[0] in [\"Merry\", \"John\"]), fruits.items())\n",
    "print f1\n",
    "f2 = map(lambda x : x[1], f1)\n",
    "print f2\n",
    "f3 = list(itertools.chain(*f2))\n",
    "print f3\n",
    "f4 = map(lambda x : x[1] if x[0] == 'apple' else 0, f3)\n",
    "print f4\n",
    "f5 = reduce(lambda x, y: x+y, f4)\n",
    "print f5"
   ]
  },
  {
   "cell_type": "markdown",
   "metadata": {},
   "source": [
    "EX. 5"
   ]
  },
  {
   "cell_type": "code",
   "execution_count": 138,
   "metadata": {
    "collapsed": false
   },
   "outputs": [
    {
     "name": "stdout",
     "output_type": "stream",
     "text": [
      "True\n",
      "0 True\n",
      "1 True\n",
      "2 True\n",
      "3 True\n",
      "4 True\n",
      "5 True\n",
      "6 True\n",
      "7 True\n",
      "8 True\n",
      "9 True\n",
      "10 True\n",
      "11 True\n",
      "12 True\n",
      "13 True\n",
      "14 True\n",
      "15 True\n",
      "16 True\n",
      "17 True\n",
      "18 True\n",
      "19 True\n",
      "20 True\n",
      "21 True\n",
      "0 True\n",
      "1 True\n",
      "2 True\n",
      "3 True\n",
      "4 True\n",
      "5 True\n",
      "6 True\n",
      "7 True\n",
      "8 True\n",
      "9 True\n",
      "10 True\n",
      "11 True\n",
      "12 True\n",
      "13 True\n",
      "14 True\n",
      "15 True\n",
      "16 True\n",
      "17 True\n",
      "18 True\n",
      "19 True\n",
      "20 True\n",
      "21 True\n"
     ]
    }
   ],
   "source": [
    "def natural_numbers(k=0):\n",
    "    i = 0\n",
    "    while True:\n",
    "        yield i + k\n",
    "        i += 1\n",
    "\n",
    "import types\n",
    "print isinstance(natural_numbers(), types.GeneratorType)\n",
    "\n",
    "# Should print 20 times True\n",
    "for i, n in enumerate(natural_numbers()):\n",
    "    print i, i == n\n",
    "    if i > 20:\n",
    "        break\n",
    "        \n",
    "# Should print 20 times True\n",
    "for i, n in enumerate(natural_numbers(1)):\n",
    "    print i, i+1 == n\n",
    "    if i > 20:\n",
    "        break"
   ]
  },
  {
   "cell_type": "code",
   "execution_count": 140,
   "metadata": {
    "collapsed": false
   },
   "outputs": [
    {
     "name": "stdout",
     "output_type": "stream",
     "text": [
      "True\n",
      "(1, True)\n",
      "(2, True)\n",
      "(6, True)\n",
      "(24, True)\n",
      "(120, True)\n",
      "(720, True)\n",
      "(5040, True)\n"
     ]
    }
   ],
   "source": [
    "def factorials():\n",
    "    i = 1\n",
    "    cnt = 2\n",
    "    while True:\n",
    "        yield i\n",
    "        i = i * cnt\n",
    "        cnt += 1\n",
    "    pass\n",
    "\n",
    "import types\n",
    "print isinstance(factorials(), types.GeneratorType)\n",
    "\n",
    "results = [1, 2, 6, 24, 120, 720, 5040]\n",
    "for truth, answer in zip(results, factorials()):\n",
    "    print(truth, truth == answer)"
   ]
  },
  {
   "cell_type": "markdown",
   "metadata": {},
   "source": [
    "EX. 6"
   ]
  },
  {
   "cell_type": "code",
   "execution_count": 131,
   "metadata": {
    "collapsed": false
   },
   "outputs": [
    {
     "name": "stdout",
     "output_type": "stream",
     "text": [
      "podaj liczbe tupli4\n",
      "podaj tuple (bez spacji)jan,2,6\n",
      "podaj tuple (bez spacji)karol,-1,122\n",
      "podaj tuple (bez spacji)jan,2,4\n",
      "podaj tuple (bez spacji)jan,1,1000\n"
     ]
    },
    {
     "data": {
      "text/plain": [
       "[('jan', '1', '1000'),\n",
       " ('jan', '2', '4'),\n",
       " ('jan', '2', '6'),\n",
       " ('karol', '-1', '122')]"
      ]
     },
     "execution_count": 131,
     "metadata": {},
     "output_type": "execute_result"
    }
   ],
   "source": [
    "\"\"\"to_sort = [\n",
    "        (\"Tom\",19,80),\n",
    "        (\"John\",20,90),\n",
    "        (\"Jony\",17,91),\n",
    "        (\"Jony\",17,93),\n",
    "        (\"Json\",21,85)]\"\"\"\n",
    "\n",
    "to_sort = []\n",
    "n = int(raw_input(\"podaj liczbe tupli\"))\n",
    "for _ in xrange(n):\n",
    "    s = raw_input(\"podaj tuple (bez spacji)\")\n",
    "    s = s.split(\",\")\n",
    "    to_sort.append((s[0], int(s[1]), int(s[2])))\n",
    "\n",
    "sorted(to_sort, lambda x, y: (-1 if x[0] < y[0] else (1 if x[0] > y[0] else \n",
    "                             (-1 if x[1] < y[1] else (1 if x[1] > y[1] else \n",
    "                             (-1 if x[2] < y[2] else (1 if x[2] > y[2] else 0)))))))"
   ]
  }
 ],
 "metadata": {
  "kernelspec": {
   "display_name": "Python 2",
   "language": "python",
   "name": "python2"
  },
  "language_info": {
   "codemirror_mode": {
    "name": "ipython",
    "version": 2
   },
   "file_extension": ".py",
   "mimetype": "text/x-python",
   "name": "python",
   "nbconvert_exporter": "python",
   "pygments_lexer": "ipython2",
   "version": "2.7.6"
  }
 },
 "nbformat": 4,
 "nbformat_minor": 0
}
