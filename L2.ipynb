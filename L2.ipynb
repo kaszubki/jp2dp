{
 "cells": [
  {
   "cell_type": "code",
   "execution_count": 1,
   "metadata": {
    "collapsed": true
   },
   "outputs": [],
   "source": [
    "import numpy as np\n",
    "import matplotlib.pyplot as plt\n",
    "%matplotlib inline"
   ]
  },
  {
   "cell_type": "markdown",
   "metadata": {},
   "source": [
    "Ex 4"
   ]
  },
  {
   "cell_type": "code",
   "execution_count": 11,
   "metadata": {
    "collapsed": false
   },
   "outputs": [
    {
     "data": {
      "text/plain": [
       "[<matplotlib.lines.Line2D at 0x7fc6e8bf3250>]"
      ]
     },
     "execution_count": 11,
     "metadata": {},
     "output_type": "execute_result"
    },
    {
     "data": {
      "image/png": "[encoded data removed]",
      "text/plain": [
       "<matplotlib.figure.Figure at 0x7fc6e8cd4990>"
      ]
     },
     "metadata": {},
     "output_type": "display_data"
    }
   ],
   "source": [
    "x = np.linspace(0, 1, 100, endpoint=True)\n",
    "y = np.sin(x)\n",
    "plt.plot(x, y)"
   ]
  },
  {
   "cell_type": "markdown",
   "metadata": {},
   "source": [
    "Ex 3"
   ]
  },
  {
   "cell_type": "code",
   "execution_count": 17,
   "metadata": {
    "collapsed": false
   },
   "outputs": [
    {
     "name": "stdout",
     "output_type": "stream",
     "text": [
      "[ 1.28571429  0.07142857]\n"
     ]
    }
   ],
   "source": [
    "A = np.array([[3, 2], [1, 10]])\n",
    "w = np.array([4, 2])\n",
    "B = np.linalg.inv(A)\n",
    "v = np.dot(B, w)\n",
    "print v"
   ]
  },
  {
   "cell_type": "markdown",
   "metadata": {},
   "source": [
    "Ex 1"
   ]
  },
  {
   "cell_type": "code",
   "execution_count": 20,
   "metadata": {
    "collapsed": false
   },
   "outputs": [
    {
     "ename": "AssertionError",
     "evalue": "",
     "output_type": "error",
     "traceback": [
      "\u001b[1;31m---------------------------------------------------------------------------\u001b[0m",
      "\u001b[1;31mAssertionError\u001b[0m                            Traceback (most recent call last)",
      "\u001b[1;32m<ipython-input-20-ee21f99deabf>\u001b[0m in \u001b[0;36m<module>\u001b[1;34m()\u001b[0m\n\u001b[0;32m      3\u001b[0m     \u001b[1;32mreturn\u001b[0m \u001b[0ms\u001b[0m\u001b[1;33m\u001b[0m\u001b[0m\n\u001b[0;32m      4\u001b[0m \u001b[1;33m\u001b[0m\u001b[0m\n\u001b[1;32m----> 5\u001b[1;33m \u001b[1;32massert\u001b[0m \u001b[0mf\u001b[0m\u001b[1;33m(\u001b[0m\u001b[1;33m[\u001b[0m\u001b[1;36m1\u001b[0m\u001b[1;33m,\u001b[0m\u001b[1;36m2\u001b[0m\u001b[1;33m,\u001b[0m\u001b[1;36m3\u001b[0m\u001b[1;33m]\u001b[0m\u001b[1;33m)\u001b[0m \u001b[1;33m==\u001b[0m \u001b[1;36m16\u001b[0m\u001b[1;33m\u001b[0m\u001b[0m\n\u001b[0m",
      "\u001b[1;31mAssertionError\u001b[0m: "
     ]
    }
   ],
   "source": [
    "def f(l):\n",
    "    s = sum(l)\n",
    "    return s\n",
    "\n",
    "assert f([1,2,3]) == 16"
   ]
  },
  {
   "cell_type": "markdown",
   "metadata": {},
   "source": [
    "Ex 2"
   ]
  },
  {
   "cell_type": "code",
   "execution_count": 25,
   "metadata": {
    "collapsed": true
   },
   "outputs": [],
   "source": [
    "def print_board(board):\n",
    "    def print_row(r):\n",
    "        for i in xrange(len(r) - 1): \n",
    "            print (\" \" if r[i]==\"\" else r[i]),\n",
    "            print \"|\",\n",
    "        print r[-1]\n",
    "        return\n",
    "    def print_sep(l):\n",
    "        x = [\"-\" for i in xrange(l)]\n",
    "        print \"\".join(x)\n",
    "        return\n",
    "    \n",
    "    for i in xrange(len(board) - 1):\n",
    "        print_row(board[i])\n",
    "        print_sep(9)\n",
    "    print_row(board[-1])"
   ]
  },
  {
   "cell_type": "code",
   "execution_count": 26,
   "metadata": {
    "collapsed": false
   },
   "outputs": [
    {
     "name": "stdout",
     "output_type": "stream",
     "text": [
      "  | O | \n",
      "---------\n",
      "  |   | \n",
      "---------\n",
      "  |   | X\n"
     ]
    }
   ],
   "source": [
    "print_board([['', 'O', ''], ['','',''], ['','','X']])"
   ]
  },
  {
   "cell_type": "markdown",
   "metadata": {},
   "source": [
    "Ex 6"
   ]
  },
  {
   "cell_type": "code",
   "execution_count": 37,
   "metadata": {
    "collapsed": true
   },
   "outputs": [],
   "source": [
    "def play_at(board, c, x, y):\n",
    "    if(board[x][y] != 0):\n",
    "        raise ValueError(\"occupied\")\n",
    "    board2 = board.copy()\n",
    "    if c == \"X\":\n",
    "        c = 1\n",
    "    else:\n",
    "        c = -1\n",
    "    board2[x][y] = c\n",
    "    return board2\n",
    "\n",
    "def score(b):\n",
    "    L = 3\n",
    "    \n",
    "    for i in xrange(L):\n",
    "        if(sum(b[i,:]) == L):\n",
    "            return 1\n",
    "        if(sum(b[i,:]) == -L):\n",
    "            return -1\n",
    "        if(sum(b[:,i]) == L):\n",
    "            return 1\n",
    "        if(sum(b[:,i]) == -L):\n",
    "            return -1\n",
    "\n",
    "    d = np.diag(b)\n",
    "    if(sum(d) == L):\n",
    "        return 1\n",
    "    if(sum(d) == -L):\n",
    "        return -1\n",
    "        \n",
    "    d = np.diag(np.fliplr(b))\n",
    "    if(sum(d) == L):\n",
    "        return 1\n",
    "    if(sum(d) == -L):\n",
    "        return -1\n",
    "    \n",
    "    return 0"
   ]
  },
  {
   "cell_type": "code",
   "execution_count": 42,
   "metadata": {
    "collapsed": false
   },
   "outputs": [
    {
     "name": "stdout",
     "output_type": "stream",
     "text": [
      "0\n",
      "1\n"
     ]
    }
   ],
   "source": [
    "board = np.zeros(shape=(3,3)) # np.zeros is awesome\n",
    "board_2 = play_at(board, 'X', 0, 0)\n",
    "board_3 = play_at(play_at(play_at(board, 'X', 0, 0), 'X', 0, 1), 'X', 0, 2)\n",
    "\n",
    "print score(board_2)\n",
    "print score(board_3)"
   ]
  }
 ],
 "metadata": {
  "kernelspec": {
   "display_name": "Python 2",
   "language": "python",
   "name": "python2"
  },
  "language_info": {
   "codemirror_mode": {
    "name": "ipython",
    "version": 2
   },
   "file_extension": ".py",
   "mimetype": "text/x-python",
   "name": "python",
   "nbconvert_exporter": "python",
   "pygments_lexer": "ipython2",
   "version": "2.7.6"
  }
 },
 "nbformat": 4,
 "nbformat_minor": 0
}
